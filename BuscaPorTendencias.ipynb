{
 "cells": [
  {
   "cell_type": "markdown",
   "metadata": {},
   "source": [
    "<h1>Tendências nos tópicos de tecnologias</h1>\n",
    "\n",
    "<h4>Aluno: Antonio Vinicius Vieira Sousa</h4>\n",
    "\n",
    "O objetivo deste trabalho é obter uma análise sobre tendências no uso de tecnologias, baseando-se na quantidade de topicos e questões levantados no site <a href='https://stackoverflow.com/'>stackoverflow.com</a>"
   ]
  },
  {
   "cell_type": "markdown",
   "metadata": {},
   "source": [
    "Para realizar a coleta de dados utilizamos o módulo <b>requests</b> na URL da página, em seguida convertemos o HTML obtido para um objeto <b>BeautifulSoup</b> para trabalharmos com ele, em seguida filtramos os dados e separamos as informações desejadas."
   ]
  },
  {
   "cell_type": "code",
   "execution_count": null,
   "metadata": {},
   "outputs": [],
   "source": [
    "# IMPORTANDO MÓDULOS NECESSÁRIOS\n",
    "import requests, re\n",
    "from bs4 import BeautifulSoup\n",
    "\n",
    "\n",
    "# ARMAZENANDO URL DA PÁGINA\n",
    "url = ('https://stackoverflow.com/tags')\n",
    "\n",
    "\n",
    "# OBTENDO O HTML DO SITE\n",
    "html = requests.get(url).text\n",
    "\n",
    "\n",
    "# TRANSFORMANDO O HTML EM UM OBJETO SOUP\n",
    "soup = BeautifulSoup(html, 'html5lib')\n",
    "\n",
    "\n",
    "# LISTANDO AS DIV'S DAS TAGS, UTILIZANDO SELETORES CSS\n",
    "lista = soup.select('.grid--item')\n",
    "\n",
    "\n",
    "# SEPARANDO AS INFORMAÇÕES DESEJADAS(nome, tópicos total, tópicos na ultima semana)\n",
    "dadosObtidos = []\n",
    "\n",
    "for div in lista:\n",
    "\n",
    "    infos = div.select('.flex--item')\n",
    "    nomeTecnologia = infos[0].text.strip()\n",
    "    numTopicosTotal = re.findall(r'\\d+', infos[2].text)[0] # o findall do módulo re foi utilizado para buscar números em strings\n",
    "    numTopicosUltimaSemana = re.findall(r'\\d+', infos[3].text)[1]\n",
    "\n",
    "    dados = [nomeTecnologia, numTopicosTotal, numTopicosUltimaSemana]\n",
    "\n",
    "    dadosObtidos.append(dados)\n",
    "\n",
    "html"
   ]
  },
  {
   "cell_type": "markdown",
   "metadata": {},
   "source": []
  },
  {
   "cell_type": "markdown",
   "metadata": {},
   "source": [
    "<h3>Sugestão de tomada de decisões</h3>\n",
    "O estudo das tendências pode auxiliar na escolha de que tecnologias utilizar para determinado projeto"
   ]
  },
  {
   "cell_type": "markdown",
   "metadata": {},
   "source": [
    "<h3>Extra</h3>\n",
    "Exportando os dados obtidos para uma planilha, utilizando o módulo <b>csv</b>"
   ]
  },
  {
   "cell_type": "code",
   "execution_count": 141,
   "metadata": {},
   "outputs": [],
   "source": [
    "from csv import writer # importando o método escritor do módulo csv\n",
    "\n",
    "with open('planilha.csv', 'w', newline='') as arquivoCsv:\n",
    "    escritor = writer(arquivoCsv)\n",
    "    escritor.writerow(['Tecnologia', 'Tópicos totais', 'Tópicos última semana'])\n",
    "\n",
    "    for div in lista:\n",
    "\n",
    "        infos = div.select('.flex--item')\n",
    "        nomeTecnologia = infos[0].text.strip()\n",
    "        numTopicosTotal = re.findall(r'\\d+', infos[2].text)[0]\n",
    "        numTopicosUltimaSemana = re.findall(r'\\d+', infos[3].text)[1]\n",
    "\n",
    "        escritor.writerow([nomeTecnologia, numTopicosTotal, numTopicosUltimaSemana])"
   ]
  }
 ],
 "metadata": {
  "kernelspec": {
   "display_name": "Python 3 (ipykernel)",
   "language": "python",
   "name": "python3"
  },
  "language_info": {
   "codemirror_mode": {
    "name": "ipython",
    "version": 3
   },
   "file_extension": ".py",
   "mimetype": "text/x-python",
   "name": "python",
   "nbconvert_exporter": "python",
   "pygments_lexer": "ipython3",
   "version": "3.11.5"
  }
 },
 "nbformat": 4,
 "nbformat_minor": 4
}
